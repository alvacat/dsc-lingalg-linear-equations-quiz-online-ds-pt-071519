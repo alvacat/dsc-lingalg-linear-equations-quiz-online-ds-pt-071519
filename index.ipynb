{
 "cells": [
  {
   "cell_type": "markdown",
   "metadata": {},
   "source": [
    "# Systems of Linear Equations - Lab\n",
    "\n",
    "## Introduction\n",
    "The following scenarios present problems that can be solved as a system of equations while performing substitutions and eliminations as you saw in the previous lesson.\n",
    "\n",
    "* Solve these problems by hand, showing all the steps to work out the unknown variable values \n",
    "* Verify your answers by showing the calculated values satisfy all equations\n",
    "\n",
    "## Objectives\n",
    "\n",
    "In this lab you will: \n",
    "\n",
    "- Solve a system of equations using elimination and substitution\n",
    "\n",
    "## Exercise 1\n",
    "Jane paid 12 dollars for 4 cups of coffee and 4 cups of tea. 3 cups of coffee cost as much as 2 cups of tea. What would be the total cost of 5 cups of coffee and 5 cups of tea?\n",
    "\n",
    "### Solution\n",
    "\n",
    "> Let $x$ be the unit price of coffee and $y$ be the unit price of tea"
   ]
  },
  {
   "cell_type": "code",
   "execution_count": 3,
   "metadata": {},
   "outputs": [
    {
     "name": "stdout",
     "output_type": "stream",
     "text": [
      "The solutions works!\n"
     ]
    }
   ],
   "source": [
    "# Your solution here \n",
    "# Eqn1: 12=4c+4t   Eqn2: 3c=2t\n",
    "# Double Eqn2: 6c=4t\n",
    "# Substitute Eqn2 into Eqn1: 12=4c+6c\n",
    "# Simplify Eqn1: 12=10c\n",
    "# Solve Eqn1 for c: 12/10=c\n",
    "# Substitute c into Eqn2: 3(12/10)=2t\n",
    "# Solve Eqn2 for t: 36/10=2t --> 18/10=t\n",
    "# c = $1.20/cup and t=$1.80/cup\n",
    "# 5c+5t --> 5(1.20)+5(1.80) = $15\n",
    "# Answer: 5 cups of tea and 5 cups of coffee = 15 dollars\n",
    "\n",
    "c=1.2\n",
    "t=1.8\n",
    "jane=4*c+4*t\n",
    "three_coffees=3*c\n",
    "two_teas=2*t\n",
    "\n",
    "if int(jane)==12 and round(three_coffees,1)==round(two_teas,1):\n",
    "    print(\"The solutions works!\")\n",
    "else:\n",
    "    print(\"The solution doesn't work\")"
   ]
  },
  {
   "cell_type": "markdown",
   "metadata": {},
   "source": [
    "## Exercise 2\n",
    "\n",
    "Jim has more money than Bob. If Jim gave Bob 20 dollars, they would have the same amount. If Bob gave Jim 22 dollars, however, Jim would then have twice as much as Bob. \n",
    "\n",
    "How much does each one actually have?\n",
    "\n",
    "### Solution\n",
    "> Let x be the amount of money that Jim has and y be the amount that Bob has "
   ]
  },
  {
   "cell_type": "code",
   "execution_count": 5,
   "metadata": {},
   "outputs": [
    {
     "name": "stdout",
     "output_type": "stream",
     "text": [
      "The solution works!\n"
     ]
    }
   ],
   "source": [
    "# Your solution here \n",
    "# Eqn1: j-20=b+20    Eqn2: j+22=2(b-22)\n",
    "# Solve Eqn1 for j: j=b+40\n",
    "# Substitute Eqn1 into Eqn2: b+40+22=2(b-22)\n",
    "# Solve Eqn2 for b: b+62=2b-44 --> 106=b\n",
    "# Substitute Eqn2 into Eqn1: j=106+40\n",
    "# Solve Eqn1 for j: j=146\n",
    "\n",
    "# Answer:\n",
    "# y = 106 (Bob's amount)\n",
    "# x = 146 (Jim's amount)\n",
    "\n",
    "j=146\n",
    "b=106\n",
    "\n",
    "if j-20==b+20 and 2*(b-22)==j+22:\n",
    "    print('The solution works!')\n",
    "else:\n",
    "    print('sadface.')"
   ]
  },
  {
   "cell_type": "markdown",
   "metadata": {},
   "source": [
    "## Exercise 3\n",
    "\n",
    "Mia has 30 coins, consisting of quarters (25 cents) and dimes (10 cents), which totals to the amount 5.70 dollars.  \n",
    "How many of each does she have?\n",
    "\n",
    "### Solution\n",
    "\n",
    "> Let x be the number of quarters and y be the number of dimes "
   ]
  },
  {
   "cell_type": "code",
   "execution_count": 7,
   "metadata": {},
   "outputs": [
    {
     "name": "stdout",
     "output_type": "stream",
     "text": [
      "Success!\n"
     ]
    }
   ],
   "source": [
    "# Your solution here \n",
    "# Eqn1: q+d=30  Eqn2: 0.25q+0.10d=5.70\n",
    "# Solve Eqn1 for q: q=30-d\n",
    "# Substitute Eqn1 into Eqn2: 0.25(30-d)+0.10d=5.70\n",
    "# Simplify Eqn2: 7.5-0.25d+0.10d=5.70 --> 7.5-0.15d=5.70\n",
    "# Solve Eqn2 for d: 1.8=0.15d --> 12=d\n",
    "# Substitute into Eqn1: q+12=30 --> q=18\n",
    "# Answer:\n",
    "# x = 18 quarters\n",
    "# y = 12 dimes\n",
    "\n",
    "q=18\n",
    "d=12\n",
    "\n",
    "if q+d==30 and round(0.25*q+0.1*d,2)==5.70:\n",
    "    print(\"Success!\")\n",
    "else:\n",
    "    print(\"Fail!\")"
   ]
  },
  {
   "cell_type": "markdown",
   "metadata": {},
   "source": [
    "## Level up (Optional)\n",
    "For more practice with linear equations, visit the following links for more complex equations:\n",
    "\n",
    "* https://www.transum.org/software/SW/Starter_of_the_day/Students/Simultaneous_Equations.asp?Level=6\n",
    "* https://www.transum.org/software/SW/Starter_of_the_day/Students/Simultaneous_Equations.asp?Level=7\n",
    "\n",
    "## Summary\n",
    "\n",
    "In this lesson, you learned how to solve linear equations by hand to find the coefficient values. You'll now move forward to have a deeper look into vectors and matrices and how Python and NumPy can help us solve more complex equations in an analytical context. "
   ]
  }
 ],
 "metadata": {
  "kernelspec": {
   "display_name": "Python 3",
   "language": "python",
   "name": "python3"
  },
  "language_info": {
   "codemirror_mode": {
    "name": "ipython",
    "version": 3
   },
   "file_extension": ".py",
   "mimetype": "text/x-python",
   "name": "python",
   "nbconvert_exporter": "python",
   "pygments_lexer": "ipython3",
   "version": "3.7.3"
  }
 },
 "nbformat": 4,
 "nbformat_minor": 2
}
